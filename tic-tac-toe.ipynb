{
 "cells": [
  {
   "cell_type": "markdown",
   "id": "7b3f4c98-227d-4322-8513-a9ef23ffeec5",
   "metadata": {},
   "source": [
    "(step1)define a cell calss which contains a single attribute named occupied. \n",
    "The attribute will automatically take the value ' ' (blank space) during instantiation.\n",
    "\n",
    "(step2)define in the class cell a method play1 which will give the value \"X\" to the \n",
    "attribute occupied if the cell is not already occupied\n",
    "\n",
    "(step3)define in the class cell a method play2 which will give the value \"O\" to the \n",
    "attribute occupied if the cell is not already occupied"
   ]
  },
  {
   "cell_type": "code",
   "execution_count": 35,
   "id": "bb3a7b1b-7fe6-4ed7-a433-62429be7ad41",
   "metadata": {
    "tags": []
   },
   "outputs": [],
   "source": [
    "class Cell():\n",
    "    def __init__(self,occupied = ' '):\n",
    "        self.occupied = occupied\n",
    "        \n",
    "    def play1(self):\n",
    "        if self.occupied == ' ':\n",
    "            self.occupied = 'X'\n",
    "        return self.occupied\n",
    "    \n",
    "    def play2(self):\n",
    "        if self.occupied == ' ':\n",
    "            self.occupied = 'O'\n",
    "        return self.occupied"
   ]
  },
  {
   "cell_type": "markdown",
   "id": "9b56439c-50c3-49d6-8fc3-1c91511e5b9d",
   "metadata": {},
   "source": [
    "(ste4)Define a Board class which has two attributes: grid and turn. The grid attribute is a 9-element \n",
    "list of objects of type Cell. The turn attribute is an integer which is equal to 1 if it is the turn \n",
    "of player 1 to play and 2 if it is the turn of player 2. The turn attribute will be automatically \n",
    "initialized with the value 1.\n",
    "(step5) Define in the Board class the _str_ method which will allow you to use the print function on \n",
    "objects of this class. The print function should display in a first line the content of cells 0 to 2, \n",
    "then in a second line the content of cells 3 to 5 and finally in a third line the content of cells 6 to 8. \n",
    "The cells will be separated by the character ' |' and each line will end with the character '\\n' which \n",
    "is the end-of-line character.\n",
    "(step6) Define in the Board class a play method which will take as a parameter an integer ranging \n",
    "from 0 to 8. Depending on the player whose turn it is to play, this method will call the play1 or \n",
    "play2 methods on the cell corresponding to the integer passed as argument. It will then be necessary \n",
    "to modify"
   ]
  },
  {
   "cell_type": "code",
   "execution_count": 79,
   "id": "2e9dccfa-48b3-4d07-bc79-33df6ddb891b",
   "metadata": {
    "tags": []
   },
   "outputs": [],
   "source": [
    "class Board:\n",
    "    def __init__(self,grid=[],turn=1):\n",
    "        self.grid = [' ']*9\n",
    "        self.turn = 1\n",
    "        \n",
    "    def __str__(self):\n",
    "        tmp_str = ''\n",
    "        for i in range(len(self.grid)):\n",
    "            mod_i = i%3\n",
    "            if i == 0:\n",
    "                tmp_str = self.grid[i] + '|'\n",
    "            else:\n",
    "                if mod_i == 2:\n",
    "                    tmp_str = tmp_str + self.grid[i] + '|' + '\\n'\n",
    "                else:\n",
    "                    tmp_str = tmp_str + self.grid[i] + '|'\n",
    "                    \n",
    "        return tmp_str\n",
    "    \n",
    "    def play(self,number):\n",
    "        if self.grid[number] == ' ':\n",
    "            if self.turn % 2 == 1:\n",
    "                self.grid[number] = 'X'\n",
    "                self.turn = 2\n",
    "            else:\n",
    "                self.grid[number] = 'O'\n",
    "                self.turn = 1\n",
    "        \n",
    "        else:\n",
    "            print(\"location occupied. Re-do it!\")\n"
   ]
  },
  {
   "cell_type": "code",
   "execution_count": 81,
   "id": "cd3a78e1-2320-430d-a439-42f5da7a8c0d",
   "metadata": {
    "tags": []
   },
   "outputs": [
    {
     "name": "stdout",
     "output_type": "stream",
     "text": [
      " | | |\n",
      " | | |\n",
      " | | |\n",
      "\n",
      " | | |\n",
      "X| | |\n",
      " | | |\n",
      "\n",
      " | |O|\n",
      "X| | |\n",
      " | | |\n",
      "\n",
      " | |O|\n",
      "X|X| |\n",
      " | | |\n",
      "\n",
      "location occupied. Re-do it!\n",
      " | |O|\n",
      "X|X| |\n",
      " | | |\n",
      "\n",
      " | |O|\n",
      "X|X| |\n",
      "O| | |\n",
      "\n",
      " | |O|\n",
      "X|X|X|\n",
      "O| | |\n",
      "\n"
     ]
    }
   ],
   "source": [
    "play1 = Cell()\n",
    "play2 = Cell()\n",
    "\n",
    "board = Board()\n",
    "print(board.__str__())\n",
    "\n",
    "procedure = [3,2,4,4,6,5]\n",
    "for elm in procedure:\n",
    "    board.play(elm)\n",
    "    print(board.__str__())"
   ]
  }
 ],
 "metadata": {
  "kernelspec": {
   "display_name": "Python 3 (ipykernel)",
   "language": "python",
   "name": "python3"
  },
  "language_info": {
   "codemirror_mode": {
    "name": "ipython",
    "version": 3
   },
   "file_extension": ".py",
   "mimetype": "text/x-python",
   "name": "python",
   "nbconvert_exporter": "python",
   "pygments_lexer": "ipython3",
   "version": "3.11.5"
  }
 },
 "nbformat": 4,
 "nbformat_minor": 5
}
